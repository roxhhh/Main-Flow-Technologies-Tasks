{
 "cells": [
  {
   "cell_type": "code",
   "execution_count": 1,
   "id": "f70359a3-029e-4bb0-9043-1123e09e37a0",
   "metadata": {},
   "outputs": [
    {
     "name": "stdout",
     "output_type": "stream",
     "text": [
      "updated list: [10, 6, 8, 10, 6]\n"
     ]
    }
   ],
   "source": [
    "#creating my list\n",
    "my_list = [2,4,6,8,10]\n",
    "\n",
    "#adding an element into the list\n",
    "my_list.append(6)\n",
    "\n",
    "#removing an element from the list \n",
    "my_list.remove(4)\n",
    "\n",
    "#modifying an element in the list\n",
    "my_list[0] = 10\n",
    "\n",
    "print(\"updated list:\",my_list)"
   ]
  },
  {
   "cell_type": "code",
   "execution_count": 2,
   "id": "50704eb8-f05c-4ce8-9bfa-0c6a831085a4",
   "metadata": {},
   "outputs": [
    {
     "name": "stdout",
     "output_type": "stream",
     "text": [
      "updated dictionary: {'Name': 'Mathew', 'City': 'Thrissur', 'Gender': 'Male'}\n"
     ]
    }
   ],
   "source": [
    "#creating a dictionary\n",
    "my_dict = {'Name':'Mathew','Age':27,'City':'Kochi'}\n",
    "\n",
    "#adding\n",
    "my_dict['Gender'] = 'Male'\n",
    "\n",
    "#removing\n",
    "del my_dict['Age']\n",
    "\n",
    "#modify\n",
    "my_dict['City'] = 'Thrissur'\n",
    "\n",
    "print(\"updated dictionary:\",my_dict)"
   ]
  },
  {
   "cell_type": "code",
   "execution_count": 5,
   "id": "d4dec480-056a-4f21-a2aa-39900c5afb6f",
   "metadata": {},
   "outputs": [
    {
     "name": "stdout",
     "output_type": "stream",
     "text": [
      "updated set: {2, 8, 10, 12, 14}\n"
     ]
    }
   ],
   "source": [
    "#creating a set\n",
    "my_set = {2,4,6,8,10}\n",
    "\n",
    "#adding\n",
    "my_set.add(12)\n",
    "\n",
    "#removing\n",
    "my_set.remove(6)\n",
    "\n",
    "#modify\n",
    "my_set.discard(4)\n",
    "my_set.add(14)\n",
    "\n",
    "print(\"updated set:\",my_set)"
   ]
  },
  {
   "cell_type": "code",
   "execution_count": null,
   "id": "f10a6bbd-281d-4e12-9564-2dc5a34ed201",
   "metadata": {},
   "outputs": [],
   "source": []
  }
 ],
 "metadata": {
  "kernelspec": {
   "display_name": "Python 3 (ipykernel)",
   "language": "python",
   "name": "python3"
  },
  "language_info": {
   "codemirror_mode": {
    "name": "ipython",
    "version": 3
   },
   "file_extension": ".py",
   "mimetype": "text/x-python",
   "name": "python",
   "nbconvert_exporter": "python",
   "pygments_lexer": "ipython3",
   "version": "3.12.3"
  }
 },
 "nbformat": 4,
 "nbformat_minor": 5
}
